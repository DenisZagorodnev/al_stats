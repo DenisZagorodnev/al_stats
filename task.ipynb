{
 "cells": [
  {
   "cell_type": "code",
   "execution_count": 89,
   "metadata": {},
   "outputs": [],
   "source": [
    "import pandas as pd\n",
    "import re\n",
    "from datetime import datetime\n",
    "def parse_lines(lines):\n",
    "    #\"%h %l %u %t \\\"%r\\\" %>s %b\" - apache log format\n",
    "    b = '(-|\\d+)'\n",
    "    s = '(-|\\d{3})'\n",
    "#     h = '([\\w.-]+)'\n",
    "    h = '(.+) '\n",
    "    l = '(-|\\w+)'\n",
    "    u = '(-|\\w+)'\n",
    "    t = '\\[([\\w:/\\- ]+)\\]'\n",
    "    r = '\\\"(GET|HEAD|POST|PUT|DELETE|CONNECT|OPTIONS|TRACE) (.+)( HTTP/1\\.\\d)?\\\"'\n",
    "    pattern = '^' + h + l + ' ' + u + ' ' + t  + ' ' + r + ' ' +  s + ' ' + b +'$'\n",
    "    regexp = re.compile(pattern)\n",
    "    result = {'host':[], 'time':[], 'path':[], 'size':[], 'uri':[]}\n",
    "    for line in lines:\n",
    "        #line = line.replace(line[-1], '')\n",
    "        line = line.rstrip()\n",
    "        #print(len(line))\n",
    "        match =  regexp.match(line)\n",
    "        if match:\n",
    "            (host, _, __, time, ___, path, version, ____, size) = match.groups()\n",
    "            path = path.split(' ')[0]\n",
    "            result['host'].append(host)\n",
    "            time = datetime.strptime(time, '%d/%b/%Y:%H:%M:%S %z')\n",
    "            #result['time'].append(int(time.hour*60*60+time.minute*60+time.second))\n",
    "            result['time'].append(time)\n",
    "            result['path'].append(path)\n",
    "            result['size'].append(size)\n",
    "            result['uri'].append(host + path)\n",
    "        else:\n",
    "            print('warning: \"%s\" missmatch' %line)\n",
    "    \n",
    "    return result"
   ]
  },
  {
   "cell_type": "code",
   "execution_count": 90,
   "metadata": {},
   "outputs": [
    {
     "name": "stdout",
     "output_type": "stream",
     "text": [
      "warning: \"klothos.crl.research.digital.com - - [10/Jul/1995:16:45:50 -0400] \"\u0005\u0001\" 400 -\" missmatch\n",
      "warning: \"firewall.dfw.ibm.com - - [20/Jul/1995:07:34:34 -0400] \"1/history/apollo/images/\" 400 -\" missmatch\n",
      "warning: \"firewall.dfw.ibm.com - - [20/Jul/1995:07:53:24 -0400] \"1/history/apollo/images/\" 400 -\" missmatch\n",
      "warning: \"128.159.122.20 - - [20/Jul/1995:15:28:50 -0400] \"kû\u0003txû\u0004tGû\u0007tÍû\" 400 -\" missmatch\n",
      "warning: \"128.159.122.20 - - [24/Jul/1995:13:52:50 -0400] \"kû\u0003txû\u0004tGû\u0007tÍû\" 400 -\" missmatch\n",
      "warning: \"alyssa.p\" missmatch\n"
     ]
    }
   ],
   "source": [
    "filename = '/Users/deniszagorodnev/Desktop/data.log'\n",
    "with open(filename, 'r', encoding = \"ISO 8859-1\") as data:\n",
    "    result = parse_lines(data)\n",
    "    df1 = pd.DataFrame(data=result)\n",
    "    df1.head(15)"
   ]
  },
  {
   "cell_type": "code",
   "execution_count": 91,
   "metadata": {},
   "outputs": [
    {
     "data": {
      "text/html": [
       "<div>\n",
       "<style scoped>\n",
       "    .dataframe tbody tr th:only-of-type {\n",
       "        vertical-align: middle;\n",
       "    }\n",
       "\n",
       "    .dataframe tbody tr th {\n",
       "        vertical-align: top;\n",
       "    }\n",
       "\n",
       "    .dataframe thead th {\n",
       "        text-align: right;\n",
       "    }\n",
       "</style>\n",
       "<table border=\"1\" class=\"dataframe\">\n",
       "  <thead>\n",
       "    <tr style=\"text-align: right;\">\n",
       "      <th></th>\n",
       "      <th>host</th>\n",
       "      <th>time</th>\n",
       "      <th>path</th>\n",
       "      <th>size</th>\n",
       "      <th>uri</th>\n",
       "    </tr>\n",
       "  </thead>\n",
       "  <tbody>\n",
       "    <tr>\n",
       "      <th>0</th>\n",
       "      <td>199.72.81.55</td>\n",
       "      <td>1995-07-01 00:00:01-04:00</td>\n",
       "      <td>/history/apollo/</td>\n",
       "      <td>6245</td>\n",
       "      <td>199.72.81.55/history/apollo/</td>\n",
       "    </tr>\n",
       "    <tr>\n",
       "      <th>1</th>\n",
       "      <td>unicomp6.unicomp.net</td>\n",
       "      <td>1995-07-01 00:00:06-04:00</td>\n",
       "      <td>/shuttle/countdown/</td>\n",
       "      <td>3985</td>\n",
       "      <td>unicomp6.unicomp.net/shuttle/countdown/</td>\n",
       "    </tr>\n",
       "    <tr>\n",
       "      <th>2</th>\n",
       "      <td>199.120.110.21</td>\n",
       "      <td>1995-07-01 00:00:09-04:00</td>\n",
       "      <td>/shuttle/missions/sts-73/mission-sts-73.html</td>\n",
       "      <td>4085</td>\n",
       "      <td>199.120.110.21/shuttle/missions/sts-73/mission...</td>\n",
       "    </tr>\n",
       "  </tbody>\n",
       "</table>\n",
       "</div>"
      ],
      "text/plain": [
       "                   host                      time  \\\n",
       "0          199.72.81.55 1995-07-01 00:00:01-04:00   \n",
       "1  unicomp6.unicomp.net 1995-07-01 00:00:06-04:00   \n",
       "2        199.120.110.21 1995-07-01 00:00:09-04:00   \n",
       "\n",
       "                                           path  size  \\\n",
       "0                              /history/apollo/  6245   \n",
       "1                           /shuttle/countdown/  3985   \n",
       "2  /shuttle/missions/sts-73/mission-sts-73.html  4085   \n",
       "\n",
       "                                                 uri  \n",
       "0                       199.72.81.55/history/apollo/  \n",
       "1            unicomp6.unicomp.net/shuttle/countdown/  \n",
       "2  199.120.110.21/shuttle/missions/sts-73/mission...  "
      ]
     },
     "execution_count": 91,
     "metadata": {},
     "output_type": "execute_result"
    }
   ],
   "source": [
    "df1.head(3)"
   ]
  },
  {
   "cell_type": "code",
   "execution_count": 92,
   "metadata": {},
   "outputs": [],
   "source": [
    "#посчитать количество обращений к каждому урлу;\n",
    "counts = df1['uri'].value_counts()"
   ]
  },
  {
   "cell_type": "code",
   "execution_count": 93,
   "metadata": {},
   "outputs": [
    {
     "name": "stdout",
     "output_type": "stream",
     "text": [
      "siltb10.orl.mmc.com/images/KSC-logosmall.gif    2549\n",
      "Name: uri, dtype: int64\n",
      "siltb10.orl.mmc.com/images/launch-logo.gif    2541\n",
      "Name: uri, dtype: int64\n",
      "siltb10.orl.mmc.com/history/apollo/images/apollo-logo1.gif    2479\n",
      "Name: uri, dtype: int64\n",
      "currypc.fpl.msstate.edu/htbin/cdt_main.pl    1917\n",
      "Name: uri, dtype: int64\n",
      "piweba3y.prodigy.com/shuttle/missions/sts-71/sts-71-patch-small.gif    1116\n",
      "Name: uri, dtype: int64\n",
      "piweba3y.prodigy.com/images/NASA-logosmall.gif    1010\n",
      "Name: uri, dtype: int64\n",
      "bill.ksc.nasa.gov/htbin/cdt_main.pl    1006\n",
      "Name: uri, dtype: int64\n",
      "bill.ksc.nasa.gov/images/NASA-logosmall.gif    1003\n",
      "Name: uri, dtype: int64\n",
      "piweba3y.prodigy.com/images/KSC-logosmall.gif    957\n",
      "Name: uri, dtype: int64\n",
      "bill.ksc.nasa.gov/shuttle/countdown/images/cdtclock.gif    928\n",
      "Name: uri, dtype: int64\n",
      "helios.astro.uva.nl/shuttle/countdown/video/livevideo.jpeg    861\n",
      "Name: uri, dtype: int64\n",
      "edams.ksc.nasa.gov/ksc.html    789\n",
      "Name: uri, dtype: int64\n",
      "piweba3y.prodigy.com/shuttle/missions/sts-70/sts-70-patch-small.gif    781\n",
      "Name: uri, dtype: int64\n",
      "alyssa.prodigy.com/shuttle/missions/sts-71/sts-71-patch-small.gif    778\n",
      "Name: uri, dtype: int64\n"
     ]
    }
   ],
   "source": [
    "#найти топ-15 самых посещаемых урлов;\n",
    "import numpy as np\n",
    "for i in np.arange(0, 14):\n",
    "    print(counts[counts == counts[i]])"
   ]
  },
  {
   "cell_type": "code",
   "execution_count": 140,
   "metadata": {},
   "outputs": [
    {
     "name": "stdout",
     "output_type": "stream",
     "text": [
      "0.7943204072652027\n"
     ]
    }
   ],
   "source": [
    "#посчитать число запросов в секунду;\n",
    "times = df1['time']\n",
    "counts = df1.shape[0]\n",
    "seconds = (times[-1]-times[0]).total_seconds()\n",
    "print(counts/seconds)"
   ]
  },
  {
   "cell_type": "code",
   "execution_count": 157,
   "metadata": {},
   "outputs": [
    {
     "data": {
      "text/plain": [
       "[<matplotlib.lines.Line2D at 0x130e67358>]"
      ]
     },
     "execution_count": 157,
     "metadata": {},
     "output_type": "execute_result"
    },
    {
     "data": {
      "image/png": "[encoded data removed]",
      "text/plain": [
       "<Figure size 432x288 with 1 Axes>"
      ]
     },
     "metadata": {},
     "output_type": "display_data"
    }
   ],
   "source": [
    "#нарисовать график числа запросов в секунду;\n",
    "data = np.asarray(df1.groupby(df1[\"time\"]).size().tolist())\n",
    "import matplotlib.pyplot as plt\n",
    "plt.plot(data)"
   ]
  },
  {
   "cell_type": "code",
   "execution_count": null,
   "metadata": {},
   "outputs": [],
   "source": [
    "#построить гистограмму распределения размеров запросов."
   ]
  },
  {
   "cell_type": "code",
   "execution_count": 164,
   "metadata": {},
   "outputs": [
    {
     "data": {
      "text/plain": [
       "(array([6155., 2787.,  784.,  371.,  250.,  185.,  158.,  130.,  109.,\n",
       "          94.,   82.,   77.,   57.,   70.,   43.,   58.,   47.,   42.,\n",
       "          32.,   40.,   32.,   31.,   47.,   37.,   34.,   24.,   20.,\n",
       "          20.,   24.,   20.,   25.,   29.,   18.,   18.,   20.,   27.,\n",
       "          21.,    9.,   24.,   14.,   12.,   21.,    9.,   14.,   14.,\n",
       "          12.,    7.,    7.,   17.]),\n",
       " array([ 0,  2,  4,  6,  8, 10, 12, 14, 16, 18, 20, 22, 24, 26, 28, 30, 32,\n",
       "        34, 36, 38, 40, 42, 44, 46, 48, 50, 52, 54, 56, 58, 60, 62, 64, 66,\n",
       "        68, 70, 72, 74, 76, 78, 80, 82, 84, 86, 88, 90, 92, 94, 96, 98]),\n",
       " <a list of 49 Patch objects>)"
      ]
     },
     "execution_count": 164,
     "metadata": {},
     "output_type": "execute_result"
    },
    {
     "data": {
      "image/png": "[encoded data removed]",
      "text/plain": [
       "<Figure size 432x288 with 1 Axes>"
      ]
     },
     "metadata": {},
     "output_type": "display_data"
    }
   ],
   "source": [
    "data = np.asarray(df1.groupby(df1[\"size\"]).size().tolist())\n",
    "bins = np.arange(0, 100, 2)\n",
    "plt.hist(data, bins=bins)"
   ]
  },
  {
   "cell_type": "code",
   "execution_count": null,
   "metadata": {},
   "outputs": [],
   "source": []
  }
 ],
 "metadata": {
  "kernelspec": {
   "display_name": "Python 3",
   "language": "python",
   "name": "python3"
  },
  "language_info": {
   "codemirror_mode": {
    "name": "ipython",
    "version": 3
   },
   "file_extension": ".py",
   "mimetype": "text/x-python",
   "name": "python",
   "nbconvert_exporter": "python",
   "pygments_lexer": "ipython3",
   "version": "3.6.5"
  }
 },
 "nbformat": 4,
 "nbformat_minor": 2
}
